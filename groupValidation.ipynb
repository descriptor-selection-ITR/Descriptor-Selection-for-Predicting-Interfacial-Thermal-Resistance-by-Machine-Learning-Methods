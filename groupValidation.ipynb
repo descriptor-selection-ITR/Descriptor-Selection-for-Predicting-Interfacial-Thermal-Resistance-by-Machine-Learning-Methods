{
 "cells": [
  {
   "cell_type": "code",
   "execution_count": null,
   "metadata": {},
   "outputs": [],
   "source": [
    "import pandas as pd\n",
    "from sklearn.model_selection import train_test_split, GridSearchCV\n",
    "from sklearn.metrics import mean_squared_error\n",
    "import numpy as np"
   ]
  },
  {
   "cell_type": "code",
   "execution_count": null,
   "metadata": {},
   "outputs": [],
   "source": [
    "import random"
   ]
  },
  {
   "cell_type": "code",
   "execution_count": null,
   "metadata": {},
   "outputs": [],
   "source": [
    "pd.options.display.max_columns = None\n",
    "pd.options.display.max_rows = None"
   ]
  },
  {
   "cell_type": "code",
   "execution_count": null,
   "metadata": {},
   "outputs": [],
   "source": [
    "from sklearn.tree import DecisionTreeRegressor\n",
    "from sklearn.kernel_ridge import KernelRidge\n",
    "from sklearn.gaussian_process import GaussianProcessRegressor\n",
    "from sklearn.neighbors import KNeighborsRegressor\n",
    "from sklearn.gaussian_process.kernels import RBF, ConstantKernel as C"
   ]
  },
  {
   "cell_type": "markdown",
   "metadata": {},
   "source": [
    "# Load data"
   ]
  },
  {
   "cell_type": "code",
   "execution_count": null,
   "metadata": {},
   "outputs": [],
   "source": [
    "data = pd.read_excel('./results/data_scaled.xlsx')"
   ]
  },
  {
   "cell_type": "markdown",
   "metadata": {},
   "source": [
    "# Group validation"
   ]
  },
  {
   "cell_type": "code",
   "execution_count": null,
   "metadata": {},
   "outputs": [],
   "source": [
    "counts = data['Interface'].value_counts()"
   ]
  },
  {
   "cell_type": "code",
   "execution_count": null,
   "metadata": {},
   "outputs": [],
   "source": [
    "interface_counts = dict(counts)"
   ]
  },
  {
   "cell_type": "code",
   "execution_count": null,
   "metadata": {},
   "outputs": [],
   "source": [
    "interfaces = list(interface_counts.keys())"
   ]
  },
  {
   "cell_type": "code",
   "execution_count": null,
   "metadata": {},
   "outputs": [],
   "source": [
    "random.shuffle(interfaces)"
   ]
  },
  {
   "cell_type": "code",
   "execution_count": null,
   "metadata": {},
   "outputs": [],
   "source": [
    "test = []"
   ]
  },
  {
   "cell_type": "code",
   "execution_count": null,
   "metadata": {},
   "outputs": [],
   "source": [
    "curr_count = 0\n",
    "curr = []\n",
    "test = []\n",
    "for interface in interfaces:\n",
    "    curr_count += interface_counts[interface]\n",
    "    curr.append(interface)\n",
    "    if curr_count >= 140:\n",
    "        curr_count = 0\n",
    "        test.append(curr)\n",
    "        print(curr)\n",
    "        curr = []\n",
    "test.append(curr)"
   ]
  },
  {
   "cell_type": "code",
   "execution_count": null,
   "metadata": {},
   "outputs": [],
   "source": [
    "cv = []\n",
    "for test_interface in test:\n",
    "    train_index = data[~data.Interface.isin(test_interface)].index\n",
    "    test_index = data[data.Interface.isin(test_interface)].index\n",
    "    cv.append([train_index, test_index])"
   ]
  },
  {
   "cell_type": "code",
   "execution_count": null,
   "metadata": {},
   "outputs": [],
   "source": [
    "X = data.drop(['Interface', 'itr'], axis=1)\n",
    "y = data['itr']"
   ]
  },
  {
   "cell_type": "markdown",
   "metadata": {},
   "source": [
    "# Optimize hyperparameter"
   ]
  },
  {
   "cell_type": "markdown",
   "metadata": {},
   "source": [
    "## Decision tree"
   ]
  },
  {
   "cell_type": "code",
   "execution_count": null,
   "metadata": {},
   "outputs": [],
   "source": [
    "estimator = DecisionTreeRegressor()\n",
    "parameters = {'max_depth':[2, 3, 5, 6, 7, 8, 9], 'min_samples_leaf':[1, 2, 3, 4, 5, 6, 7]}\n",
    "grid_search = GridSearchCV(estimator, parameters, scoring='neg_mean_squared_error', cv=cv)\n",
    "grid_search.fit(X, y)"
   ]
  },
  {
   "cell_type": "code",
   "execution_count": null,
   "metadata": {},
   "outputs": [],
   "source": [
    "grid_search.best_score_"
   ]
  },
  {
   "cell_type": "code",
   "execution_count": null,
   "metadata": {},
   "outputs": [],
   "source": [
    "grid_search.best_params_"
   ]
  },
  {
   "cell_type": "markdown",
   "metadata": {},
   "source": [
    "optimized parameter: {'max_depth': 9, 'min_samples_leaf': 5} "
   ]
  },
  {
   "cell_type": "markdown",
   "metadata": {},
   "source": [
    "## Gaussian process regressor"
   ]
  },
  {
   "cell_type": "code",
   "execution_count": null,
   "metadata": {},
   "outputs": [],
   "source": [
    "estimator = GaussianProcessRegressor(random_state=42)\n",
    "parameters = {'alpha':[0.05, 0.1, 0.5, 1, 5, 10], 'kernel':[RBF(0.001), RBF(0.005), RBF(0.01), RBF(0.05), RBF(0.1), RBF(0.5), RBF(1), RBF(10), RBF(100)]}\n",
    "grid_search = GridSearchCV(estimator, parameters, scoring='neg_mean_squared_error', cv=cv)\n",
    "grid_search.fit(X, y)"
   ]
  },
  {
   "cell_type": "code",
   "execution_count": null,
   "metadata": {},
   "outputs": [],
   "source": [
    "grid_search.best_score_"
   ]
  },
  {
   "cell_type": "code",
   "execution_count": null,
   "metadata": {},
   "outputs": [],
   "source": [
    "grid_search.best_params_"
   ]
  },
  {
   "cell_type": "markdown",
   "metadata": {},
   "source": [
    "optimized hyperparameter: {'alpha': 1, 'kernel': RBF(length_scale=0.5)}"
   ]
  },
  {
   "cell_type": "markdown",
   "metadata": {},
   "source": [
    "## Kernel ridge regressor"
   ]
  },
  {
   "cell_type": "code",
   "execution_count": null,
   "metadata": {},
   "outputs": [],
   "source": [
    "estimator = KernelRidge(kernel='rbf')\n",
    "alpha_range=[0.0005, 0.001, 0.005, 0.01, 0.05, 0.1]\n",
    "gamma_range=[0.0001, 0.0005, 0.01, 0.05, 0.1, 0.5, 1]\n",
    "parameters = {'alpha':alpha_range, 'gamma':gamma_range}\n",
    "grid_search = GridSearchCV(estimator, parameters, scoring='neg_mean_squared_error', cv=cv)\n",
    "grid_search.fit(X, y)"
   ]
  },
  {
   "cell_type": "code",
   "execution_count": null,
   "metadata": {},
   "outputs": [],
   "source": [
    "grid_search.best_score_"
   ]
  },
  {
   "cell_type": "code",
   "execution_count": null,
   "metadata": {},
   "outputs": [],
   "source": [
    "grid_search.best_params_"
   ]
  },
  {
   "cell_type": "markdown",
   "metadata": {},
   "source": [
    "optimized hyperparameter: {'alpha': 0.05, 'gamma': 0.01}"
   ]
  },
  {
   "cell_type": "markdown",
   "metadata": {},
   "source": [
    "## KNearest neighbors"
   ]
  },
  {
   "cell_type": "code",
   "execution_count": null,
   "metadata": {},
   "outputs": [],
   "source": [
    "estimator = KNeighborsRegressor()\n",
    "parameters = {'n_neighbors':[i for i in range(1,20)], 'weights':['uniform', 'distance'], 'p':[i for i in range(1, 6)]}\n",
    "grid_search = GridSearchCV(estimator, parameters, scoring='neg_mean_squared_error', cv=cv)\n",
    "grid_search.fit(X, y)"
   ]
  },
  {
   "cell_type": "code",
   "execution_count": null,
   "metadata": {},
   "outputs": [],
   "source": [
    "grid_search.best_score_"
   ]
  },
  {
   "cell_type": "code",
   "execution_count": null,
   "metadata": {},
   "outputs": [],
   "source": [
    "grid_search.best_params_"
   ]
  },
  {
   "cell_type": "markdown",
   "metadata": {},
   "source": [
    "optimized hyperparameter: {'n_neighbors': 6, 'p': 1, 'weights': 'uniform'}"
   ]
  },
  {
   "cell_type": "markdown",
   "metadata": {},
   "source": [
    "# Performance of group validation by descriptors selected by decision tree"
   ]
  },
  {
   "cell_type": "code",
   "execution_count": null,
   "metadata": {},
   "outputs": [],
   "source": [
    "dt = DecisionTreeRegressor(max_depth=9, min_samples_leaf=5, random_state=42)\n",
    "gpr = GaussianProcessRegressor(alpha=1, kernel=RBF(0.5), random_state=42)\n",
    "krr = KernelRidge(kernel='rbf', alpha=0.05, gamma=0.01)\n",
    "knn = KNeighborsRegressor(n_neighbors=6, p=1, weights='uniform')"
   ]
  },
  {
   "cell_type": "code",
   "execution_count": null,
   "metadata": {},
   "outputs": [],
   "source": [
    "dt_dt = []\n",
    "gpr_dt = []\n",
    "krr_dt = []\n",
    "knn_dt = []"
   ]
  },
  {
   "cell_type": "code",
   "execution_count": null,
   "metadata": {},
   "outputs": [],
   "source": [
    "importances=[('fmelt', 0.5097206136660818),\n",
    " ('fthick', 0.1826317239645447),\n",
    " ('sheatcap', 0.10621889559441318),\n",
    " ('fheatcap', 0.0793520891284305),\n",
    " ('sdensity', 0.024888283196101767),\n",
    " ('funit', 0.024091762378890956),\n",
    " ('sAC1y', 0.021371980756532648),\n",
    " ('T', 0.016594557893137206),\n",
    " ('sENc', 0.01374813695858899),\n",
    " ('sunit', 0.008929258409001887),\n",
    " ('interlayer', 0.004503754650566429),\n",
    " ('fAC1x', 0.003071434986695499),\n",
    " ('fEb', 0.0030248751201656047),\n",
    " ('sAC2x', 0.0005730668760265949),\n",
    " ('fIPa', 0.0005344525219175029),\n",
    " ('sIPc', 0.00044787622369259444),\n",
    " ('fENc', 0.00023319897367195038),\n",
    " ('sR1', 3.465008293823693e-05),\n",
    " ('smelt', 2.9224069554527495e-05),\n",
    " ('fdensity', 1.645490476126332e-07),\n",
    " ('fmass', 0.0),\n",
    " ('sEb', 0.0),\n",
    " ('smass', 0.0),\n",
    " ('fAC1y', 0.0),\n",
    " ('fAC2x', 0.0),\n",
    " ('fAC2y', 0.0),\n",
    " ('fIPc', 0.0),\n",
    " ('sAC1x', 0.0),\n",
    " ('sAC2y', 0.0),\n",
    " ('sIPa', 0.0),\n",
    " ('fR1', 0.0),\n",
    " ('fR2', 0.0),\n",
    " ('fENa', 0.0),\n",
    " ('sR2', 0.0),\n",
    " ('sENa', 0.0)]"
   ]
  },
  {
   "cell_type": "code",
   "execution_count": null,
   "metadata": {},
   "outputs": [],
   "source": [
    "def performance(best_estimator, X):\n",
    "    r_squares = []\n",
    "    mean_squared_errors = []\n",
    "    for train_index, test_index in cv:\n",
    "        X_train, X_test = X.iloc[train_index, :], X.iloc[test_index, :]\n",
    "        y_train, y_test = y.iloc[train_index], y.iloc[test_index]\n",
    "        best_estimator.fit(X_train, y_train)\n",
    "        r_square = best_estimator.score(X_test, y_test)\n",
    "        y_test_predict = best_estimator.predict(X_test)\n",
    "        mse_test = mean_squared_error(y_test_predict, y_test)\n",
    "        r_squares.append(r_square)\n",
    "        mean_squared_errors.append(mse_test)\n",
    "    r_square = sum(r_squares)/len(r_squares)\n",
    "    mse = sum(mean_squared_errors)/len(mean_squared_errors)\n",
    "    return r_square, mse"
   ]
  },
  {
   "cell_type": "code",
   "execution_count": null,
   "metadata": {},
   "outputs": [],
   "source": [
    "r_square_dt, mse_dt = performance(dt, X)\n",
    "r_square_gpr, mse_gpr = performance(gpr, X)\n",
    "r_square_krr, mse_krr = performance(krr, X)\n",
    "r_square_knn, mse_knn = performance(knn, X)\n",
    "dt_dt.append(mse_dt)\n",
    "gpr_dt.append(mse_gpr)\n",
    "krr_dt.append(mse_krr)\n",
    "knn_dt.append(mse_knn)"
   ]
  },
  {
   "cell_type": "code",
   "execution_count": null,
   "metadata": {},
   "outputs": [],
   "source": [
    "r_square_dt"
   ]
  },
  {
   "cell_type": "code",
   "execution_count": null,
   "metadata": {},
   "outputs": [],
   "source": [
    "mse_dt"
   ]
  },
  {
   "cell_type": "code",
   "execution_count": null,
   "metadata": {},
   "outputs": [],
   "source": [
    "r_square_gpr"
   ]
  },
  {
   "cell_type": "code",
   "execution_count": null,
   "metadata": {},
   "outputs": [],
   "source": [
    "mse_gpr"
   ]
  },
  {
   "cell_type": "code",
   "execution_count": null,
   "metadata": {},
   "outputs": [],
   "source": [
    "r_square_knn"
   ]
  },
  {
   "cell_type": "code",
   "execution_count": null,
   "metadata": {},
   "outputs": [],
   "source": [
    "mse_knn"
   ]
  },
  {
   "cell_type": "code",
   "execution_count": null,
   "metadata": {},
   "outputs": [],
   "source": [
    "r_square_krr"
   ]
  },
  {
   "cell_type": "code",
   "execution_count": null,
   "metadata": {},
   "outputs": [],
   "source": [
    "mse_krr"
   ]
  },
  {
   "cell_type": "markdown",
   "metadata": {},
   "source": [
    "## Top20 descriptors"
   ]
  },
  {
   "cell_type": "code",
   "execution_count": null,
   "metadata": {},
   "outputs": [],
   "source": [
    "X_index_20 = [feature for feature, importance in importances[:20]]\n",
    "X_selected_20 = X[X_index_20]\n",
    "r_square_dt, mse_dt = performance(dt, X_selected_20)\n",
    "r_square_gpr, mse_gpr = performance(gpr, X_selected_20)\n",
    "r_square_krr, mse_krr = performance(krr, X_selected_20)\n",
    "r_square_knn, mse_knn = performance(knn, X_selected_20)"
   ]
  },
  {
   "cell_type": "code",
   "execution_count": null,
   "metadata": {},
   "outputs": [],
   "source": [
    "dt_dt.append(mse_dt)\n",
    "gpr_dt.append(mse_gpr)\n",
    "krr_dt.append(mse_krr)\n",
    "knn_dt.append(mse_knn)"
   ]
  },
  {
   "cell_type": "code",
   "execution_count": null,
   "metadata": {},
   "outputs": [],
   "source": [
    "mse_dt"
   ]
  },
  {
   "cell_type": "code",
   "execution_count": null,
   "metadata": {},
   "outputs": [],
   "source": [
    "mse_gpr"
   ]
  },
  {
   "cell_type": "code",
   "execution_count": null,
   "metadata": {},
   "outputs": [],
   "source": [
    "mse_knn"
   ]
  },
  {
   "cell_type": "code",
   "execution_count": null,
   "metadata": {},
   "outputs": [],
   "source": [
    "mse_krr"
   ]
  },
  {
   "cell_type": "markdown",
   "metadata": {},
   "source": [
    "## Top15 descriptors"
   ]
  },
  {
   "cell_type": "code",
   "execution_count": null,
   "metadata": {},
   "outputs": [],
   "source": [
    "X_index_15 = [feature for feature, importance in importances[:15]]\n",
    "X_selected_15 = X[X_index_15]\n",
    "r_square_dt, mse_dt = performance(dt, X_selected_15)\n",
    "r_square_gpr, mse_gpr = performance(gpr, X_selected_15)\n",
    "r_square_krr, mse_krr = performance(krr, X_selected_15)\n",
    "r_square_knn, mse_knn = performance(knn, X_selected_15)"
   ]
  },
  {
   "cell_type": "code",
   "execution_count": null,
   "metadata": {},
   "outputs": [],
   "source": [
    "dt_dt.append(mse_dt)\n",
    "gpr_dt.append(mse_gpr)\n",
    "krr_dt.append(mse_krr)\n",
    "knn_dt.append(mse_knn)"
   ]
  },
  {
   "cell_type": "code",
   "execution_count": null,
   "metadata": {},
   "outputs": [],
   "source": [
    "mse_dt"
   ]
  },
  {
   "cell_type": "code",
   "execution_count": null,
   "metadata": {},
   "outputs": [],
   "source": [
    "mse_gpr"
   ]
  },
  {
   "cell_type": "code",
   "execution_count": null,
   "metadata": {},
   "outputs": [],
   "source": [
    "mse_knn"
   ]
  },
  {
   "cell_type": "code",
   "execution_count": null,
   "metadata": {},
   "outputs": [],
   "source": [
    "mse_krr"
   ]
  },
  {
   "cell_type": "markdown",
   "metadata": {},
   "source": [
    "## Top10 descriptors"
   ]
  },
  {
   "cell_type": "code",
   "execution_count": null,
   "metadata": {},
   "outputs": [],
   "source": [
    "X_index_10 = [feature for feature, importance in importances[:10]]\n",
    "X_selected_10 = X[X_index_10]\n",
    "r_square_dt, mse_dt = performance(dt, X_selected_10)\n",
    "r_square_gpr, mse_gpr = performance(gpr, X_selected_10)\n",
    "r_square_krr, mse_krr = performance(krr, X_selected_10)\n",
    "r_square_knn, mse_knn = performance(knn, X_selected_10)"
   ]
  },
  {
   "cell_type": "code",
   "execution_count": null,
   "metadata": {},
   "outputs": [],
   "source": [
    "dt_dt.append(mse_dt)\n",
    "gpr_dt.append(mse_gpr)\n",
    "krr_dt.append(mse_krr)\n",
    "knn_dt.append(mse_knn)"
   ]
  },
  {
   "cell_type": "code",
   "execution_count": null,
   "metadata": {},
   "outputs": [],
   "source": [
    "mse_dt"
   ]
  },
  {
   "cell_type": "code",
   "execution_count": null,
   "metadata": {},
   "outputs": [],
   "source": [
    "mse_gpr"
   ]
  },
  {
   "cell_type": "code",
   "execution_count": null,
   "metadata": {},
   "outputs": [],
   "source": [
    "mse_krr"
   ]
  },
  {
   "cell_type": "code",
   "execution_count": null,
   "metadata": {},
   "outputs": [],
   "source": [
    "mse_knn"
   ]
  },
  {
   "cell_type": "markdown",
   "metadata": {},
   "source": [
    "## Top5 descriptors"
   ]
  },
  {
   "cell_type": "code",
   "execution_count": null,
   "metadata": {},
   "outputs": [],
   "source": [
    "X_index_5 = [feature for feature, importance in importances[:5]]\n",
    "X_selected_5 = X[X_index_5]\n",
    "r_square_dt, mse_dt = performance(dt, X_selected_5)\n",
    "r_square_gpr, mse_gpr = performance(gpr, X_selected_5)\n",
    "r_square_krr, mse_krr = performance(krr, X_selected_5)\n",
    "r_square_knn, mse_knn = performance(knn, X_selected_5)"
   ]
  },
  {
   "cell_type": "code",
   "execution_count": null,
   "metadata": {},
   "outputs": [],
   "source": [
    "dt_dt.append(mse_dt)\n",
    "gpr_dt.append(mse_gpr)\n",
    "krr_dt.append(mse_krr)\n",
    "knn_dt.append(mse_knn)"
   ]
  },
  {
   "cell_type": "code",
   "execution_count": null,
   "metadata": {},
   "outputs": [],
   "source": [
    "mse_dt"
   ]
  },
  {
   "cell_type": "code",
   "execution_count": null,
   "metadata": {},
   "outputs": [],
   "source": [
    "mse_gpr"
   ]
  },
  {
   "cell_type": "code",
   "execution_count": null,
   "metadata": {},
   "outputs": [],
   "source": [
    "mse_krr"
   ]
  },
  {
   "cell_type": "code",
   "execution_count": null,
   "metadata": {},
   "outputs": [],
   "source": [
    "mse_knn"
   ]
  },
  {
   "cell_type": "markdown",
   "metadata": {},
   "source": [
    "# Performance of group validation by descriptors selected by decision tree and univariate testing"
   ]
  },
  {
   "cell_type": "code",
   "execution_count": null,
   "metadata": {},
   "outputs": [],
   "source": [
    "dtuv_15 = ['T',\n",
    " 'fAC1x',\n",
    " 'fENc',\n",
    " 'fEb',\n",
    " 'fdensity',\n",
    " 'fheatcap',\n",
    " 'fmelt',\n",
    " 'fthick',\n",
    " 'funit',\n",
    " 'sAC1y',\n",
    " 'sENc',\n",
    " 'sIPc',\n",
    " 'sheatcap',\n",
    " 'smelt',\n",
    " 'sunit']\n",
    "dtuv_5 = ['fheatcap', 'fmelt', 'funit', 'sENc', 'sheatcap']"
   ]
  },
  {
   "cell_type": "code",
   "execution_count": null,
   "metadata": {},
   "outputs": [],
   "source": [
    "dt_dtuv = []\n",
    "gpr_dtuv = []\n",
    "knn_dtuv = []\n",
    "krr_dtuv = []"
   ]
  },
  {
   "cell_type": "markdown",
   "metadata": {},
   "source": [
    "## Performance of dtuv_15"
   ]
  },
  {
   "cell_type": "code",
   "execution_count": null,
   "metadata": {},
   "outputs": [],
   "source": [
    "X_selected_15 = X[dtuv_15]\n",
    "r_square_dt, mse_dt = performance(dt, X_selected_15)\n",
    "r_square_gpr, mse_gpr = performance(gpr, X_selected_15)\n",
    "r_square_krr, mse_krr = performance(krr, X_selected_15)\n",
    "r_square_knn, mse_knn = performance(knn, X_selected_15)"
   ]
  },
  {
   "cell_type": "code",
   "execution_count": null,
   "metadata": {},
   "outputs": [],
   "source": [
    "dt_dtuv.append(mse_dt)\n",
    "gpr_dtuv.append(mse_gpr)\n",
    "knn_dtuv.append(mse_knn)\n",
    "krr_dtuv.append(mse_krr)"
   ]
  },
  {
   "cell_type": "code",
   "execution_count": null,
   "metadata": {},
   "outputs": [],
   "source": [
    "mse_dt"
   ]
  },
  {
   "cell_type": "code",
   "execution_count": null,
   "metadata": {},
   "outputs": [],
   "source": [
    "mse_gpr"
   ]
  },
  {
   "cell_type": "code",
   "execution_count": null,
   "metadata": {},
   "outputs": [],
   "source": [
    "mse_krr"
   ]
  },
  {
   "cell_type": "code",
   "execution_count": null,
   "metadata": {},
   "outputs": [],
   "source": [
    "mse_knn"
   ]
  },
  {
   "cell_type": "markdown",
   "metadata": {},
   "source": [
    "## Performance of dtuv_5"
   ]
  },
  {
   "cell_type": "code",
   "execution_count": null,
   "metadata": {},
   "outputs": [],
   "source": [
    "X_selected_5 = X[dtuv_5]\n",
    "r_square_dt, mse_dt = performance(dt, X_selected_5)\n",
    "r_square_gpr, mse_gpr = performance(gpr, X_selected_5)\n",
    "r_square_krr, mse_krr = performance(krr, X_selected_5)\n",
    "r_square_knn, mse_knn = performance(knn, X_selected_5)"
   ]
  },
  {
   "cell_type": "code",
   "execution_count": null,
   "metadata": {},
   "outputs": [],
   "source": [
    "dt_dtuv.append(mse_dt)\n",
    "gpr_dtuv.append(mse_gpr)\n",
    "knn_dtuv.append(mse_knn)\n",
    "krr_dtuv.append(mse_krr)"
   ]
  },
  {
   "cell_type": "code",
   "execution_count": null,
   "metadata": {},
   "outputs": [],
   "source": [
    "mse_dt"
   ]
  },
  {
   "cell_type": "code",
   "execution_count": null,
   "metadata": {},
   "outputs": [],
   "source": [
    "mse_gpr"
   ]
  },
  {
   "cell_type": "code",
   "execution_count": null,
   "metadata": {},
   "outputs": [],
   "source": [
    "mse_krr"
   ]
  },
  {
   "cell_type": "code",
   "execution_count": null,
   "metadata": {},
   "outputs": [],
   "source": [
    "mse_knn"
   ]
  },
  {
   "cell_type": "code",
   "execution_count": null,
   "metadata": {},
   "outputs": [],
   "source": [
    "dt_dt"
   ]
  },
  {
   "cell_type": "code",
   "execution_count": null,
   "metadata": {},
   "outputs": [],
   "source": [
    "gpr_dt"
   ]
  },
  {
   "cell_type": "code",
   "execution_count": null,
   "metadata": {},
   "outputs": [],
   "source": [
    "krr_dt"
   ]
  },
  {
   "cell_type": "code",
   "execution_count": null,
   "metadata": {},
   "outputs": [],
   "source": [
    "knn_dt"
   ]
  },
  {
   "cell_type": "code",
   "execution_count": null,
   "metadata": {},
   "outputs": [],
   "source": [
    "dt_dtuv"
   ]
  },
  {
   "cell_type": "code",
   "execution_count": null,
   "metadata": {},
   "outputs": [],
   "source": [
    "gpr_dtuv"
   ]
  },
  {
   "cell_type": "code",
   "execution_count": null,
   "metadata": {},
   "outputs": [],
   "source": [
    "krr_dtuv"
   ]
  },
  {
   "cell_type": "code",
   "execution_count": null,
   "metadata": {},
   "outputs": [],
   "source": [
    "knn_dtuv"
   ]
  },
  {
   "cell_type": "code",
   "execution_count": null,
   "metadata": {},
   "outputs": [],
   "source": []
  }
 ],
 "metadata": {
  "kernelspec": {
   "display_name": "Python 3",
   "language": "python",
   "name": "python3"
  },
  "language_info": {
   "codemirror_mode": {
    "name": "ipython",
    "version": 3
   },
   "file_extension": ".py",
   "mimetype": "text/x-python",
   "name": "python",
   "nbconvert_exporter": "python",
   "pygments_lexer": "ipython3",
   "version": "3.7.6"
  },
  "toc": {
   "base_numbering": 1,
   "nav_menu": {},
   "number_sections": true,
   "sideBar": true,
   "skip_h1_title": false,
   "title_cell": "Table of Contents",
   "title_sidebar": "Contents",
   "toc_cell": false,
   "toc_position": {
    "height": "calc(100% - 180px)",
    "left": "10px",
    "top": "150px",
    "width": "280.188px"
   },
   "toc_section_display": true,
   "toc_window_display": true
  }
 },
 "nbformat": 4,
 "nbformat_minor": 4
}
