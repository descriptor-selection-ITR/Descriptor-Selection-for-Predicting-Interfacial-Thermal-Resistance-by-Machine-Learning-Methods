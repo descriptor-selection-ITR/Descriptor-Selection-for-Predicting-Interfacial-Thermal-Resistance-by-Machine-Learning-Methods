{
 "cells": [
  {
   "cell_type": "code",
   "execution_count": null,
   "metadata": {},
   "outputs": [],
   "source": [
    "from sklearn.tree import DecisionTreeRegressor\n",
    "import pandas as pd\n",
    "from sklearn.model_selection import train_test_split, GridSearchCV\n",
    "from sklearn.metrics import mean_squared_error\n",
    "import numpy as np\n",
    "import matplotlib.pyplot as plt\n",
    "from sklearn.model_selection import KFold"
   ]
  },
  {
   "cell_type": "code",
   "execution_count": null,
   "metadata": {},
   "outputs": [],
   "source": [
    "from sklearn.gaussian_process import GaussianProcessRegressor\n",
    "from sklearn.gaussian_process.kernels import RBF, ConstantKernel as ConstantKernel"
   ]
  },
  {
   "cell_type": "code",
   "execution_count": null,
   "metadata": {},
   "outputs": [],
   "source": [
    "from sklearn.kernel_ridge import KernelRidge"
   ]
  },
  {
   "cell_type": "code",
   "execution_count": null,
   "metadata": {},
   "outputs": [],
   "source": [
    "from sklearn.neighbors import KNeighborsRegressor"
   ]
  },
  {
   "cell_type": "markdown",
   "metadata": {},
   "source": [
    "# Load data and cross validation randomly"
   ]
  },
  {
   "cell_type": "code",
   "execution_count": null,
   "metadata": {},
   "outputs": [],
   "source": [
    "data = pd.read_excel('./results/data_scaled.xlsx')\n",
    "y_index = ['itr']\n",
    "y = data[y_index]\n",
    "data.drop('itr', axis=1, inplace=True)\n",
    "X = data.drop('Interface', axis=1)\n",
    "X_index = X.columns"
   ]
  },
  {
   "cell_type": "code",
   "execution_count": null,
   "metadata": {},
   "outputs": [],
   "source": [
    "X_train, X_test, y_train, y_test = train_test_split(X, y, test_size=0.2, random_state=42)"
   ]
  },
  {
   "cell_type": "markdown",
   "metadata": {},
   "source": [
    "# Optimize hyperparameter"
   ]
  },
  {
   "cell_type": "markdown",
   "metadata": {},
   "source": [
    "## Decision tree"
   ]
  },
  {
   "cell_type": "code",
   "execution_count": null,
   "metadata": {},
   "outputs": [],
   "source": [
    "estimator = DecisionTreeRegressor()\n",
    "parameters = {'max_depth':[5, 6, 7, 8, 9, 10, 11], 'min_samples_leaf':[1, 2, 3, 4]}\n",
    "grid_search = GridSearchCV(estimator, parameters, scoring='neg_mean_squared_error')\n",
    "grid_search.fit(X_train, y_train)"
   ]
  },
  {
   "cell_type": "code",
   "execution_count": null,
   "metadata": {},
   "outputs": [],
   "source": [
    "grid_search.best_score_"
   ]
  },
  {
   "cell_type": "code",
   "execution_count": null,
   "metadata": {},
   "outputs": [],
   "source": [
    "grid_search.best_params_"
   ]
  },
  {
   "cell_type": "markdown",
   "metadata": {},
   "source": [
    "optimized hyperparameter: {'max_depth': 8, 'min_samples_leaf': 2}"
   ]
  },
  {
   "cell_type": "code",
   "execution_count": null,
   "metadata": {},
   "outputs": [],
   "source": [
    "dt = DecisionTreeRegressor(max_depth=8, min_samples_leaf=2, random_state=42)\n",
    "dt.fit(X_train, y_train)\n",
    "importances = dt.feature_importances_"
   ]
  },
  {
   "cell_type": "code",
   "execution_count": null,
   "metadata": {},
   "outputs": [],
   "source": [
    "X_index = X.columns\n",
    "importances = {index: importance for index, importance in zip(X_index, importances)}\n",
    "importances = sorted(importances.items(), key=lambda x: x[1], reverse=True)"
   ]
  },
  {
   "cell_type": "code",
   "execution_count": null,
   "metadata": {},
   "outputs": [],
   "source": [
    "importances"
   ]
  },
  {
   "cell_type": "markdown",
   "metadata": {},
   "source": [
    "## Gaussian process regressor"
   ]
  },
  {
   "cell_type": "code",
   "execution_count": null,
   "metadata": {},
   "outputs": [],
   "source": [
    "estimator = GaussianProcessRegressor(random_state=42)\n",
    "parameters = {'alpha':[0.05, 0.1, 0.5, 1], 'kernel':[RBF(0.001), RBF(0.005), RBF(0.01), RBF(0.05), RBF(0.1), RBF(0.5), RBF(1)]}\n",
    "grid_search = GridSearchCV(estimator, parameters, scoring='neg_mean_squared_error', cv=5)\n",
    "grid_search.fit(X_train, y_train)"
   ]
  },
  {
   "cell_type": "code",
   "execution_count": null,
   "metadata": {},
   "outputs": [],
   "source": [
    "grid_search.best_score_"
   ]
  },
  {
   "cell_type": "code",
   "execution_count": null,
   "metadata": {},
   "outputs": [],
   "source": [
    "grid_search.best_params_"
   ]
  },
  {
   "cell_type": "markdown",
   "metadata": {},
   "source": [
    "optimized hyperparameters: {'alpha': 0.5, 'kernel': RBF(length_scale=0.5)}"
   ]
  },
  {
   "cell_type": "markdown",
   "metadata": {},
   "source": [
    "## Kernel ridge regressor"
   ]
  },
  {
   "cell_type": "code",
   "execution_count": null,
   "metadata": {},
   "outputs": [],
   "source": [
    "estimator = KernelRidge(kernel='rbf')\n",
    "alpha_range=np.logspace(-2,10,13)\n",
    "gamma_range=np.logspace(-9,3,13)\n",
    "parameters = {'alpha':alpha_range, 'gamma':gamma_range}\n",
    "grid_search = GridSearchCV(estimator, parameters, scoring='neg_mean_squared_error', cv=5)\n",
    "grid_search.fit(X_train, y_train)"
   ]
  },
  {
   "cell_type": "code",
   "execution_count": null,
   "metadata": {},
   "outputs": [],
   "source": [
    "grid_search.best_score_"
   ]
  },
  {
   "cell_type": "code",
   "execution_count": null,
   "metadata": {},
   "outputs": [],
   "source": [
    "grid_search.best_params_"
   ]
  },
  {
   "cell_type": "markdown",
   "metadata": {},
   "source": [
    "optimized hyperparameters: {'alpha': 0.01, 'gamma': 0.1}"
   ]
  },
  {
   "cell_type": "markdown",
   "metadata": {},
   "source": [
    "## KNearest neighbors"
   ]
  },
  {
   "cell_type": "code",
   "execution_count": null,
   "metadata": {},
   "outputs": [],
   "source": [
    "estimator = KNeighborsRegressor()\n",
    "parameters = {'n_neighbors':[i for i in range(1,11)], 'weights':['uniform', 'distance'], 'p':[i for i in range(1, 6)]}\n",
    "grid_search = GridSearchCV(estimator, parameters, scoring='neg_mean_squared_error', cv=5)\n",
    "grid_search.fit(X_train, y_train)"
   ]
  },
  {
   "cell_type": "code",
   "execution_count": null,
   "metadata": {},
   "outputs": [],
   "source": [
    "grid_search.best_score_"
   ]
  },
  {
   "cell_type": "code",
   "execution_count": null,
   "metadata": {},
   "outputs": [],
   "source": [
    "grid_search.best_params_"
   ]
  },
  {
   "cell_type": "markdown",
   "metadata": {},
   "source": [
    "optimized hyperparameters: {'n_neighbors': 3, 'p': 1, 'weights': 'distance'}"
   ]
  },
  {
   "cell_type": "markdown",
   "metadata": {},
   "source": [
    "# Performance of random validation by descriptors selected by decision tree"
   ]
  },
  {
   "cell_type": "code",
   "execution_count": null,
   "metadata": {},
   "outputs": [],
   "source": [
    "def performance(estimator, X_train, y_train, X_test, y_test):\n",
    "    estimator.fit(X_train, y_train)\n",
    "    R_square_train = estimator.score(X_train, y_train)\n",
    "    R_square_test = estimator.score(X_test, y_test)\n",
    "    y_train_predict = estimator.predict(X_train)\n",
    "    mse_train = mean_squared_error(y_train_predict, y_train)\n",
    "    y_test_predict = estimator.predict(X_test)\n",
    "    mse_test = mean_squared_error(y_test_predict, y_test)\n",
    "    print('R_sqaure_train is %f, R_square_test is %f, mse_train is %f,mse_test is %f' % (\n",
    "       R_square_train, R_square_test, mse_train, mse_test))"
   ]
  },
  {
   "cell_type": "markdown",
   "metadata": {},
   "source": [
    "## All descriptors"
   ]
  },
  {
   "cell_type": "code",
   "execution_count": null,
   "metadata": {},
   "outputs": [],
   "source": [
    "dt = DecisionTreeRegressor(max_depth=8, min_samples_leaf=2, random_state=42)\n",
    "gpr = GaussianProcessRegressor(alpha=0.5, kernel=RBF(0.5), random_state=42)\n",
    "krr = KernelRidge(kernel='rbf', alpha=0.01, gamma=0.1)\n",
    "knn = KNeighborsRegressor(n_neighbors=3, p=1, weights='distance')"
   ]
  },
  {
   "cell_type": "code",
   "execution_count": null,
   "metadata": {},
   "outputs": [],
   "source": [
    "performance(dt, X_train, y_train, X_test, y_test)\n",
    "\n",
    "performance(gpr, X_train, y_train, X_test, y_test)\n",
    "\n",
    "performance(krr, X_train, y_train, X_test, y_test)\n",
    "\n",
    "performance(knn, X_train, y_train, X_test, y_test)"
   ]
  },
  {
   "cell_type": "markdown",
   "metadata": {},
   "source": [
    "## Top20 descriptors"
   ]
  },
  {
   "cell_type": "code",
   "execution_count": null,
   "metadata": {},
   "outputs": [],
   "source": [
    "X_index_selected = [feature for feature, importance in importances[:20]]\n",
    "X_train_ = X_train[X_index_selected]\n",
    "X_test_ = X_test[X_index_selected]\n",
    "\n",
    "performance(dt, X_train_, y_train, X_test_, y_test)\n",
    "\n",
    "performance(gpr, X_train_, y_train, X_test_, y_test)\n",
    "\n",
    "performance(krr, X_train_, y_train, X_test_, y_test)\n",
    "\n",
    "performance(knn, X_train_, y_train, X_test_, y_test)"
   ]
  },
  {
   "cell_type": "markdown",
   "metadata": {},
   "source": [
    "## Top15 descriptors"
   ]
  },
  {
   "cell_type": "code",
   "execution_count": null,
   "metadata": {},
   "outputs": [],
   "source": [
    "X_index_selected = [feature for feature, importance in importances[:15]]\n",
    "X_train_ = X_train[X_index_selected]\n",
    "X_test_ = X_test[X_index_selected]\n",
    "\n",
    "performance(dt, X_train_, y_train, X_test_, y_test)\n",
    "\n",
    "performance(gpr, X_train_, y_train, X_test_, y_test)\n",
    "\n",
    "performance(krr, X_train_, y_train, X_test_, y_test)\n",
    "\n",
    "performance(knn, X_train_, y_train, X_test_, y_test)"
   ]
  },
  {
   "cell_type": "markdown",
   "metadata": {},
   "source": [
    "## Top10 descriptors"
   ]
  },
  {
   "cell_type": "code",
   "execution_count": null,
   "metadata": {},
   "outputs": [],
   "source": [
    "X_index_selected = [feature for feature, importance in importances[:10]]\n",
    "X_train_ = X_train[X_index_selected]\n",
    "X_test_ = X_test[X_index_selected]\n",
    "\n",
    "performance(dt, X_train_, y_train, X_test_, y_test)\n",
    "\n",
    "performance(gpr, X_train_, y_train, X_test_, y_test)\n",
    "\n",
    "performance(krr, X_train_, y_train, X_test_, y_test)\n",
    "\n",
    "performance(knn, X_train_, y_train, X_test_, y_test)"
   ]
  },
  {
   "cell_type": "markdown",
   "metadata": {},
   "source": [
    "## Top5 descriptors"
   ]
  },
  {
   "cell_type": "code",
   "execution_count": null,
   "metadata": {},
   "outputs": [],
   "source": [
    "X_index_selected = [feature for feature, importance in importances[:5]]\n",
    "X_train_ = X_train[X_index_selected]\n",
    "X_test_ = X_test[X_index_selected]\n",
    "\n",
    "performance(dt, X_train_, y_train, X_test_, y_test)\n",
    "\n",
    "performance(gpr, X_train_, y_train, X_test_, y_test)\n",
    "\n",
    "performance(krr, X_train_, y_train, X_test_, y_test)\n",
    "\n",
    "performance(knn, X_train_, y_train, X_test_, y_test)"
   ]
  },
  {
   "cell_type": "markdown",
   "metadata": {},
   "source": [
    "# Performance of random validation by descriptors selected by decision tree and univariate testing"
   ]
  },
  {
   "cell_type": "code",
   "execution_count": null,
   "metadata": {},
   "outputs": [],
   "source": [
    "dtuv_15 = ['T',\n",
    " 'fAC1x',\n",
    " 'fENc',\n",
    " 'fEb',\n",
    " 'fdensity',\n",
    " 'fheatcap',\n",
    " 'fmelt',\n",
    " 'fthick',\n",
    " 'funit',\n",
    " 'sAC1y',\n",
    " 'sENc',\n",
    " 'sIPc',\n",
    " 'sheatcap',\n",
    " 'smelt',\n",
    " 'sunit']\n",
    "dtuv_5 = ['fheatcap', 'fmelt', 'funit', 'sENc', 'sheatcap']"
   ]
  },
  {
   "cell_type": "markdown",
   "metadata": {},
   "source": [
    "## DTUV_15"
   ]
  },
  {
   "cell_type": "code",
   "execution_count": null,
   "metadata": {},
   "outputs": [],
   "source": [
    "\n",
    "X_train_ = X_train[dtuv_15]\n",
    "X_test_ = X_test[dtuv_15]\n",
    "\n",
    "performance(dt, X_train_, y_train, X_test_, y_test)\n",
    "\n",
    "performance(gpr, X_train_, y_train, X_test_, y_test)\n",
    "\n",
    "performance(krr, X_train_, y_train, X_test_, y_test)\n",
    "\n",
    "performance(knn, X_train_, y_train, X_test_, y_test)"
   ]
  },
  {
   "cell_type": "markdown",
   "metadata": {},
   "source": [
    "## DTUV-5"
   ]
  },
  {
   "cell_type": "code",
   "execution_count": null,
   "metadata": {},
   "outputs": [],
   "source": [
    "\n",
    "X_train_ = X_train[dtuv_5]\n",
    "X_test_ = X_test[dtuv_5]\n",
    "\n",
    "performance(dt, X_train_, y_train, X_test_, y_test)\n",
    "\n",
    "performance(gpr, X_train_, y_train, X_test_, y_test)\n",
    "\n",
    "performance(krr, X_train_, y_train, X_test_, y_test)\n",
    "\n",
    "performance(knn, X_train_, y_train, X_test_, y_test)"
   ]
  },
  {
   "cell_type": "code",
   "execution_count": null,
   "metadata": {},
   "outputs": [],
   "source": []
  }
 ],
 "metadata": {
  "kernelspec": {
   "display_name": "Python 3",
   "language": "python",
   "name": "python3"
  },
  "language_info": {
   "codemirror_mode": {
    "name": "ipython",
    "version": 3
   },
   "file_extension": ".py",
   "mimetype": "text/x-python",
   "name": "python",
   "nbconvert_exporter": "python",
   "pygments_lexer": "ipython3",
   "version": "3.7.6"
  },
  "toc": {
   "base_numbering": 1,
   "nav_menu": {},
   "number_sections": true,
   "sideBar": true,
   "skip_h1_title": false,
   "title_cell": "Table of Contents",
   "title_sidebar": "Contents",
   "toc_cell": false,
   "toc_position": {
    "height": "calc(100% - 180px)",
    "left": "10px",
    "top": "150px",
    "width": "280.188px"
   },
   "toc_section_display": true,
   "toc_window_display": true
  }
 },
 "nbformat": 4,
 "nbformat_minor": 4
}
