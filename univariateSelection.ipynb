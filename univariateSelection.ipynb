{
 "cells": [
  {
   "cell_type": "code",
   "execution_count": null,
   "metadata": {},
   "outputs": [],
   "source": [
    "from sklearn.tree import DecisionTreeRegressor\n",
    "import pandas as pd\n",
    "from sklearn.model_selection import train_test_split, GridSearchCV\n",
    "from sklearn.metrics import mean_squared_error\n",
    "from sklearn.preprocessing import StandardScaler\n",
    "import numpy as np\n",
    "import matplotlib.pyplot as plt\n",
    "from sklearn.feature_selection import SelectKBest\n",
    "from sklearn.feature_selection import mutual_info_regression\n",
    "from sklearn.feature_selection import f_regression"
   ]
  },
  {
   "cell_type": "markdown",
   "metadata": {},
   "source": [
    "# Load data"
   ]
  },
  {
   "cell_type": "code",
   "execution_count": null,
   "metadata": {},
   "outputs": [],
   "source": [
    "data = pd.read_excel('./results/data_scaled.xlsx')\n",
    "y_index = ['itr']\n",
    "y = data[y_index]\n",
    "data.drop('itr', axis=1, inplace=True)\n",
    "X = data.drop('Interface', axis=1)\n",
    "X_index = X.columns"
   ]
  },
  {
   "cell_type": "markdown",
   "metadata": {},
   "source": [
    "# Select descriptors with univariate testing by f_regression"
   ]
  },
  {
   "cell_type": "code",
   "execution_count": null,
   "metadata": {},
   "outputs": [],
   "source": [
    "def select(k, method):\n",
    "    selector = SelectKBest(method, k)\n",
    "    selector.fit_transform(X, y)\n",
    "    selected = selector.get_support()\n",
    "    original = X.columns\n",
    "    selected_features = [feature for select, feature in zip(selected, original) if select==True]\n",
    "    return selected_features"
   ]
  },
  {
   "cell_type": "code",
   "execution_count": null,
   "metadata": {},
   "outputs": [],
   "source": [
    "uv_20 = select(20, f_regression)"
   ]
  },
  {
   "cell_type": "code",
   "execution_count": null,
   "metadata": {},
   "outputs": [],
   "source": [
    "uv_10 = select(10, f_regression)"
   ]
  },
  {
   "cell_type": "markdown",
   "metadata": {},
   "source": [
    "# Intersection between descriptors selected by decision tree and univariate testing"
   ]
  },
  {
   "cell_type": "code",
   "execution_count": null,
   "metadata": {},
   "outputs": [],
   "source": [
    "# descriptor and importance selected by decision tree\n",
    "importances = [('fmelt', 0.5097206136660818),\n",
    " ('fthick', 0.1826317239645447),\n",
    " ('sheatcap', 0.10621889559441318),\n",
    " ('fheatcap', 0.0793520891284305),\n",
    " ('sdensity', 0.024888283196101767),\n",
    " ('funit', 0.024091762378890956),\n",
    " ('sAC1y', 0.021371980756532648),\n",
    " ('T', 0.016594557893137206),\n",
    " ('sENc', 0.01374813695858899),\n",
    " ('sunit', 0.008929258409001887),\n",
    " ('interlayer', 0.004503754650566429),\n",
    " ('fAC1x', 0.003071434986695499),\n",
    " ('fEb', 0.0030248751201656047),\n",
    " ('sAC2x', 0.0005730668760265949),\n",
    " ('fIPa', 0.0005344525219175029),\n",
    " ('sIPc', 0.00044787622369259444),\n",
    " ('fENc', 0.00023319897367195038),\n",
    " ('sR1', 3.465008293823693e-05),\n",
    " ('smelt', 2.9224069554527495e-05),\n",
    " ('fdensity', 1.645490476126332e-07),\n",
    " ('fmass', 0.0),\n",
    " ('sEb', 0.0),\n",
    " ('smass', 0.0),\n",
    " ('fAC1y', 0.0),\n",
    " ('fAC2x', 0.0),\n",
    " ('fAC2y', 0.0),\n",
    " ('fIPc', 0.0),\n",
    " ('sAC1x', 0.0),\n",
    " ('sAC2y', 0.0),\n",
    " ('sIPa', 0.0),\n",
    " ('fR1', 0.0),\n",
    " ('fR2', 0.0),\n",
    " ('fENa', 0.0),\n",
    " ('sR2', 0.0),\n",
    " ('sENa', 0.0)]"
   ]
  },
  {
   "cell_type": "code",
   "execution_count": null,
   "metadata": {},
   "outputs": [],
   "source": [
    "dt_20 = [feature for feature, _ in importances[:20]]"
   ]
  },
  {
   "cell_type": "code",
   "execution_count": null,
   "metadata": {},
   "outputs": [],
   "source": [
    "dt_10 = [feature for feature, _ in importances[:10]]"
   ]
  },
  {
   "cell_type": "code",
   "execution_count": null,
   "metadata": {},
   "outputs": [],
   "source": [
    "dtuv_1 = set(uv_20)&set(dt_20)"
   ]
  },
  {
   "cell_type": "code",
   "execution_count": null,
   "metadata": {},
   "outputs": [],
   "source": [
    "len(dtuv_1)"
   ]
  },
  {
   "cell_type": "code",
   "execution_count": null,
   "metadata": {},
   "outputs": [],
   "source": [
    "dtuv_2 = set(uv_10)&set(dt_10)"
   ]
  },
  {
   "cell_type": "code",
   "execution_count": null,
   "metadata": {},
   "outputs": [],
   "source": [
    "len(dtuv_2)"
   ]
  },
  {
   "cell_type": "code",
   "execution_count": null,
   "metadata": {},
   "outputs": [],
   "source": [
    "dtuv_1"
   ]
  },
  {
   "cell_type": "code",
   "execution_count": null,
   "metadata": {},
   "outputs": [],
   "source": [
    "dtuv_2"
   ]
  },
  {
   "cell_type": "code",
   "execution_count": null,
   "metadata": {},
   "outputs": [],
   "source": []
  }
 ],
 "metadata": {
  "kernelspec": {
   "display_name": "Python 3",
   "language": "python",
   "name": "python3"
  },
  "language_info": {
   "codemirror_mode": {
    "name": "ipython",
    "version": 3
   },
   "file_extension": ".py",
   "mimetype": "text/x-python",
   "name": "python",
   "nbconvert_exporter": "python",
   "pygments_lexer": "ipython3",
   "version": "3.7.6"
  },
  "toc": {
   "base_numbering": 1,
   "nav_menu": {},
   "number_sections": true,
   "sideBar": true,
   "skip_h1_title": false,
   "title_cell": "Table of Contents",
   "title_sidebar": "Contents",
   "toc_cell": false,
   "toc_position": {},
   "toc_section_display": true,
   "toc_window_display": false
  }
 },
 "nbformat": 4,
 "nbformat_minor": 4
}
